{
 "cells": [
  {
   "cell_type": "markdown",
   "metadata": {
    "slideshow": {
     "slide_type": "slide"
    }
   },
   "source": [
    "## Our ML Process -\n",
    "\n",
    "    Step 01 - Load Dataset\n",
    "    Step 02 - EDA -  Check for NaN values, Univariate analysis, Impute Missing values\n",
    "    Step 03 - Basic ML Tasks - X, y split, Train - Test Split, One Hot (for X Train), Feature Scaling \n",
    "    Step 04 - Run a Baseline Model - Logistic Regression\n",
    "    Step 05 - Feature Selection Chi2 (with K values ranging from 10-49)\n",
    "    Step 06 - Run Logistic Regression compare with previous models\n",
    "    Step 07 - Feature Importance with Random Forest\n",
    "    Step 08 - Run Logistic Regression compare with previous models\n",
    "    Step 09 - SMOTE\n",
    "    Step 10 - Run Logistic Regression with SMOTE compare with previous models"
   ]
  },
  {
   "cell_type": "markdown",
   "metadata": {
    "slideshow": {
     "slide_type": "skip"
    }
   },
   "source": [
    "### Import required Library "
   ]
  },
  {
   "cell_type": "code",
   "execution_count": 35,
   "metadata": {
    "collapsed": true
   },
   "outputs": [],
   "source": [
    "import pandas as pd, numpy as np # for data manipulation and linear algebra\n",
    "import matplotlib.pyplot as plt, seaborn as sns # data visualization libs\n",
    "from sklearn.model_selection import train_test_split # performs train test split\n",
    "from sklearn.metrics import roc_auc_score # AUC score metric\n",
    "from sklearn.feature_selection import SelectKBest, chi2 # chi2 test \n",
    "from sklearn.ensemble import RandomForestClassifier # RFC for model training and feature importance\n",
    "from sklearn.tree import DecisionTreeClassifier # Decision Tree classifier\n",
    "from sklearn.linear_model import LogisticRegression # Linear Model for classification\n",
    "from sklearn.preprocessing import StandardScaler # Standard scaler for continous variables\n",
    "from imblearn.over_sampling import SMOTE # Tool for Oversampling \n",
    "\n",
    "%matplotlib inline"
   ]
  },
  {
   "cell_type": "code",
   "execution_count": 27,
   "metadata": {
    "slideshow": {
     "slide_type": "skip"
    }
   },
   "outputs": [
    {
     "data": {
      "text/html": [
       "<div>\n",
       "<style scoped>\n",
       "    .dataframe tbody tr th:only-of-type {\n",
       "        vertical-align: middle;\n",
       "    }\n",
       "\n",
       "    .dataframe tbody tr th {\n",
       "        vertical-align: top;\n",
       "    }\n",
       "\n",
       "    .dataframe thead th {\n",
       "        text-align: right;\n",
       "    }\n",
       "</style>\n",
       "<table border=\"1\" class=\"dataframe\">\n",
       "  <thead>\n",
       "    <tr style=\"text-align: right;\">\n",
       "      <th></th>\n",
       "      <th>age</th>\n",
       "      <th>job</th>\n",
       "      <th>marital</th>\n",
       "      <th>education</th>\n",
       "      <th>default</th>\n",
       "      <th>housing</th>\n",
       "      <th>loan</th>\n",
       "      <th>contact</th>\n",
       "      <th>month</th>\n",
       "      <th>day_of_week</th>\n",
       "      <th>campaign</th>\n",
       "      <th>pdays</th>\n",
       "      <th>previous</th>\n",
       "      <th>poutcome</th>\n",
       "      <th>emp.var.rate</th>\n",
       "      <th>cons.price.idx</th>\n",
       "      <th>cons.conf.idx</th>\n",
       "      <th>euribor3m</th>\n",
       "      <th>nr.employed</th>\n",
       "      <th>y</th>\n",
       "    </tr>\n",
       "  </thead>\n",
       "  <tbody>\n",
       "    <tr>\n",
       "      <th>0</th>\n",
       "      <td>56</td>\n",
       "      <td>Unskilled</td>\n",
       "      <td>married</td>\n",
       "      <td>Basic</td>\n",
       "      <td>no</td>\n",
       "      <td>no</td>\n",
       "      <td>no</td>\n",
       "      <td>telephone</td>\n",
       "      <td>may</td>\n",
       "      <td>mon</td>\n",
       "      <td>1</td>\n",
       "      <td>999</td>\n",
       "      <td>0</td>\n",
       "      <td>nonexistent</td>\n",
       "      <td>1.1</td>\n",
       "      <td>93.994</td>\n",
       "      <td>-36.4</td>\n",
       "      <td>4.857</td>\n",
       "      <td>5191.0</td>\n",
       "      <td>0</td>\n",
       "    </tr>\n",
       "    <tr>\n",
       "      <th>1</th>\n",
       "      <td>57</td>\n",
       "      <td>Service</td>\n",
       "      <td>married</td>\n",
       "      <td>Mid</td>\n",
       "      <td>unknown</td>\n",
       "      <td>no</td>\n",
       "      <td>no</td>\n",
       "      <td>telephone</td>\n",
       "      <td>may</td>\n",
       "      <td>mon</td>\n",
       "      <td>1</td>\n",
       "      <td>999</td>\n",
       "      <td>0</td>\n",
       "      <td>nonexistent</td>\n",
       "      <td>1.1</td>\n",
       "      <td>93.994</td>\n",
       "      <td>-36.4</td>\n",
       "      <td>4.857</td>\n",
       "      <td>5191.0</td>\n",
       "      <td>0</td>\n",
       "    </tr>\n",
       "    <tr>\n",
       "      <th>2</th>\n",
       "      <td>37</td>\n",
       "      <td>Service</td>\n",
       "      <td>married</td>\n",
       "      <td>Mid</td>\n",
       "      <td>no</td>\n",
       "      <td>yes</td>\n",
       "      <td>no</td>\n",
       "      <td>telephone</td>\n",
       "      <td>may</td>\n",
       "      <td>mon</td>\n",
       "      <td>1</td>\n",
       "      <td>999</td>\n",
       "      <td>0</td>\n",
       "      <td>nonexistent</td>\n",
       "      <td>1.1</td>\n",
       "      <td>93.994</td>\n",
       "      <td>-36.4</td>\n",
       "      <td>4.857</td>\n",
       "      <td>5191.0</td>\n",
       "      <td>0</td>\n",
       "    </tr>\n",
       "    <tr>\n",
       "      <th>3</th>\n",
       "      <td>40</td>\n",
       "      <td>Service</td>\n",
       "      <td>married</td>\n",
       "      <td>Basic</td>\n",
       "      <td>no</td>\n",
       "      <td>no</td>\n",
       "      <td>no</td>\n",
       "      <td>telephone</td>\n",
       "      <td>may</td>\n",
       "      <td>mon</td>\n",
       "      <td>1</td>\n",
       "      <td>999</td>\n",
       "      <td>0</td>\n",
       "      <td>nonexistent</td>\n",
       "      <td>1.1</td>\n",
       "      <td>93.994</td>\n",
       "      <td>-36.4</td>\n",
       "      <td>4.857</td>\n",
       "      <td>5191.0</td>\n",
       "      <td>0</td>\n",
       "    </tr>\n",
       "    <tr>\n",
       "      <th>4</th>\n",
       "      <td>56</td>\n",
       "      <td>Service</td>\n",
       "      <td>married</td>\n",
       "      <td>Mid</td>\n",
       "      <td>no</td>\n",
       "      <td>no</td>\n",
       "      <td>yes</td>\n",
       "      <td>telephone</td>\n",
       "      <td>may</td>\n",
       "      <td>mon</td>\n",
       "      <td>1</td>\n",
       "      <td>999</td>\n",
       "      <td>0</td>\n",
       "      <td>nonexistent</td>\n",
       "      <td>1.1</td>\n",
       "      <td>93.994</td>\n",
       "      <td>-36.4</td>\n",
       "      <td>4.857</td>\n",
       "      <td>5191.0</td>\n",
       "      <td>0</td>\n",
       "    </tr>\n",
       "  </tbody>\n",
       "</table>\n",
       "</div>"
      ],
      "text/plain": [
       "   age        job  marital education  default housing loan    contact month  \\\n",
       "0   56  Unskilled  married     Basic       no      no   no  telephone   may   \n",
       "1   57    Service  married       Mid  unknown      no   no  telephone   may   \n",
       "2   37    Service  married       Mid       no     yes   no  telephone   may   \n",
       "3   40    Service  married     Basic       no      no   no  telephone   may   \n",
       "4   56    Service  married       Mid       no      no  yes  telephone   may   \n",
       "\n",
       "  day_of_week  campaign  pdays  previous     poutcome  emp.var.rate  \\\n",
       "0         mon         1    999         0  nonexistent           1.1   \n",
       "1         mon         1    999         0  nonexistent           1.1   \n",
       "2         mon         1    999         0  nonexistent           1.1   \n",
       "3         mon         1    999         0  nonexistent           1.1   \n",
       "4         mon         1    999         0  nonexistent           1.1   \n",
       "\n",
       "   cons.price.idx  cons.conf.idx  euribor3m  nr.employed  y  \n",
       "0          93.994          -36.4      4.857       5191.0  0  \n",
       "1          93.994          -36.4      4.857       5191.0  0  \n",
       "2          93.994          -36.4      4.857       5191.0  0  \n",
       "3          93.994          -36.4      4.857       5191.0  0  \n",
       "4          93.994          -36.4      4.857       5191.0  0  "
      ]
     },
     "execution_count": 27,
     "metadata": {},
     "output_type": "execute_result"
    }
   ],
   "source": [
    "df = pd.read_csv('bank-additional/modified1.csv', sep=',', index_col=0) # Read CSV file to df pandas dataframe \n",
    "df['y'] = np.where(df['y']=='yes',1,0) # Encode y target as 0 & 1\n",
    "df.drop(['duration'],axis=1,inplace=True) # Drop Duration feature as it is biased\n",
    "df.head() # displays head of dataframe"
   ]
  },
  {
   "cell_type": "markdown",
   "metadata": {},
   "source": [
    "### Custom ML Workflow API"
   ]
  },
  {
   "cell_type": "code",
   "execution_count": 28,
   "metadata": {
    "collapsed": true
   },
   "outputs": [],
   "source": [
    "def xy_split(df, target='y'):\n",
    "    '''\n",
    "    Creates X matrix and y vector from df dataframe\n",
    "    return X, y\n",
    "    '''\n",
    "    X = df.drop([target], axis=1)\n",
    "    y = df[target]\n",
    "    return X, y\n",
    "    \n",
    "def tt_split(X, y, test_size=0.5, random_state=42):\n",
    "    '''\n",
    "    Performs train test split \n",
    "    returns X_train, X_test, y_train, y_test\n",
    "    '''\n",
    "    X_train, X_test, y_train, y_test = train_test_split(\n",
    "         X, y, test_size=test_size, random_state=random_state)\n",
    "    return X_train, X_test, y_train, y_test\n",
    "\n",
    "def run_model(X_train, X_test, y_train, y_test, model):\n",
    "    '''\n",
    "    Performs model training and tests using ROC-AUC \n",
    "    returns AUC score\n",
    "    '''\n",
    "    model.fit(X_train, y_train)\n",
    "    y_scores = model.predict_proba(X_test)\n",
    "    auc = roc_auc_score(y_test, y_scores[:,1])\n",
    "    return auc\n",
    "\n",
    "def con_cat_split(X, con_cols, cat_cols):\n",
    "    '''\n",
    "    Performs dataframe splits based on the continous & \n",
    "    categorical column lists passed as arguments\n",
    "    \n",
    "    returns con_df & cat_df\n",
    "    '''\n",
    "    con_df = X[con_cols]\n",
    "    cat_df = X[cat_cols]\n",
    "    return con_df, cat_df\n",
    "\n",
    "def chi2_test(cat_df, X, y, k=10):\n",
    "    '''\n",
    "    Performs chi2 feature importance/significance test\n",
    "    takes categorical variables as input \n",
    "    returns chi2_df\n",
    "    '''\n",
    "    Xd = pd.get_dummies(X)\n",
    "    cat_df_oh = pd.get_dummies(cat_df)\n",
    "    skb = SelectKBest(chi2,k=k)\n",
    "    skb.fit(cat_df_oh, y)\n",
    "    chi2_df = Xd[cat_df_oh.columns[skb.get_support()]]\n",
    "    \n",
    "    chi2_test_df = pd.DataFrame(skb.scores_,columns=['chi2 score'])\n",
    "    chi2_test_df['pvals'] = skb.pvalues_\n",
    "    chi2_test_df.sort_values(by='pvals',ascending=True)\n",
    "\n",
    "    return chi2_df, chi2_test_df\n",
    "\n",
    "def oversample(X_train, y_train):\n",
    "    '''\n",
    "    Performs oversampling using SMOTE on train data\n",
    "    returns oversampled X_res, y_res\n",
    "    '''\n",
    "    sm = SMOTE(random_state=42)\n",
    "    X_res, y_res = sm.fit_sample(X_train, y_train)\n",
    "    return X_res, y_res\n",
    "\n",
    "def scale(Xd, cols_transform = ['emp.var.rate', 'cons.price.idx',\n",
    "       'cons.conf.idx', 'euribor3m', 'nr.employed']):\n",
    "    '''\n",
    "    Performs Standard Scaler given dataframe with continous variables as list\n",
    "    returns Xd - (Scaled Dataframe)\n",
    "    '''\n",
    "    ss = StandardScaler()\n",
    "    ss.fit_transform(Xd[cols_transform])    \n",
    "    Xd.loc[:, cols_transform] = ss.fit_transform(Xd.loc[:, cols_transform])\n",
    "    return Xd"
   ]
  },
  {
   "cell_type": "markdown",
   "metadata": {},
   "source": [
    "### Execute Custom ML-Workflow APIs"
   ]
  },
  {
   "cell_type": "code",
   "execution_count": 29,
   "metadata": {
    "collapsed": true
   },
   "outputs": [],
   "source": [
    "# X y split\n",
    "X, y = xy_split(df, target='y')\n",
    "# One Hot Encode \n",
    "Xd = pd.get_dummies(X)\n",
    "# Standard Scaling \n",
    "Xd = scale(Xd)\n",
    "# Train Test split\n",
    "X_train, X_test, y_train, y_test = tt_split(Xd, y)"
   ]
  },
  {
   "cell_type": "markdown",
   "metadata": {},
   "source": [
    "###  Logistic Regression, Decision Tree, RandomForest before SMOTE"
   ]
  },
  {
   "cell_type": "code",
   "execution_count": 39,
   "metadata": {
    "slideshow": {
     "slide_type": "slide"
    }
   },
   "outputs": [
    {
     "name": "stdout",
     "output_type": "stream",
     "text": [
      "AUC Score = 79.36 %\n",
      "On Model - \n",
      "LogisticRegression(C=1.0, class_weight=None, dual=False, fit_intercept=True,\n",
      "          intercept_scaling=1, max_iter=100, multi_class='ovr', n_jobs=1,\n",
      "          penalty='l2', random_state=None, solver='liblinear', tol=0.0001,\n",
      "          verbose=0, warm_start=False)\n",
      "AUC Score = 62.21 %\n",
      "On Model - \n",
      "DecisionTreeClassifier(class_weight=None, criterion='gini', max_depth=None,\n",
      "            max_features=None, max_leaf_nodes=None,\n",
      "            min_impurity_decrease=0.0, min_impurity_split=None,\n",
      "            min_samples_leaf=1, min_samples_split=2,\n",
      "            min_weight_fraction_leaf=0.0, presort=False, random_state=None,\n",
      "            splitter='best')\n",
      "AUC Score = 74.21 %\n",
      "On Model - \n",
      "RandomForestClassifier(bootstrap=True, class_weight=None, criterion='gini',\n",
      "            max_depth=None, max_features='auto', max_leaf_nodes=None,\n",
      "            min_impurity_decrease=0.0, min_impurity_split=None,\n",
      "            min_samples_leaf=1, min_samples_split=2,\n",
      "            min_weight_fraction_leaf=0.0, n_estimators=10, n_jobs=1,\n",
      "            oob_score=False, random_state=None, verbose=0,\n",
      "            warm_start=False)\n"
     ]
    }
   ],
   "source": [
    "models = [LogisticRegression, DecisionTreeClassifier, RandomForestClassifier]\n",
    "\n",
    "for model in models:\n",
    "    # run model\n",
    "    model = model()\n",
    "    auc = run_model(X_train, X_test, y_train, y_test, model) # train and returns AUC test score\n",
    "    print('AUC Score = %.2f' %(auc*100) +' %\\nOn Model - \\n'+str(model))"
   ]
  },
  {
   "cell_type": "markdown",
   "metadata": {},
   "source": [
    "### Oversample using SMOTE"
   ]
  },
  {
   "cell_type": "code",
   "execution_count": 40,
   "metadata": {
    "slideshow": {
     "slide_type": "slide"
    }
   },
   "outputs": [
    {
     "data": {
      "text/plain": [
       "<matplotlib.axes._subplots.AxesSubplot at 0x1188ff898>"
      ]
     },
     "execution_count": 40,
     "metadata": {},
     "output_type": "execute_result"
    },
    {
     "data": {
      "image/png": "[encoded data removed]",
      "text/plain": [
       "<matplotlib.figure.Figure at 0x1188f9550>"
      ]
     },
     "metadata": {},
     "output_type": "display_data"
    }
   ],
   "source": [
    "yr = pd.DataFrame(y_res,columns=['y'])\n",
    "yr['y'].value_counts().plot.bar()"
   ]
  },
  {
   "cell_type": "code",
   "execution_count": 33,
   "metadata": {
    "slideshow": {
     "slide_type": "slide"
    }
   },
   "outputs": [
    {
     "name": "stdout",
     "output_type": "stream",
     "text": [
      "AUC Score = 78.96 %\n",
      "On Model - \n",
      "LogisticRegression(C=1.0, class_weight=None, dual=False, fit_intercept=True,\n",
      "          intercept_scaling=1, max_iter=100, multi_class='ovr', n_jobs=1,\n",
      "          penalty='l2', random_state=None, solver='liblinear', tol=0.0001,\n",
      "          verbose=0, warm_start=False)\n",
      "AUC Score = 61.65 %\n",
      "On Model - \n",
      "DecisionTreeClassifier(class_weight=None, criterion='gini', max_depth=None,\n",
      "            max_features=None, max_leaf_nodes=None,\n",
      "            min_impurity_decrease=0.0, min_impurity_split=None,\n",
      "            min_samples_leaf=1, min_samples_split=2,\n",
      "            min_weight_fraction_leaf=0.0, presort=False, random_state=None,\n",
      "            splitter='best')\n",
      "AUC Score = 73.63 %\n",
      "On Model - \n",
      "RandomForestClassifier(bootstrap=True, class_weight=None, criterion='gini',\n",
      "            max_depth=None, max_features='auto', max_leaf_nodes=None,\n",
      "            min_impurity_decrease=0.0, min_impurity_split=None,\n",
      "            min_samples_leaf=1, min_samples_split=2,\n",
      "            min_weight_fraction_leaf=0.0, n_estimators=10, n_jobs=1,\n",
      "            oob_score=False, random_state=None, verbose=0,\n",
      "            warm_start=False)\n"
     ]
    }
   ],
   "source": [
    "# Oversample using SMOTE\n",
    "X_res, y_res = oversample(X_train, y_train)\n",
    "\n",
    "# Models as list\n",
    "models = [LogisticRegression, DecisionTreeClassifier, RandomForestClassifier]\n",
    "\n",
    "# Run each model\n",
    "for model in models:\n",
    "    # run model\n",
    "    model = model()\n",
    "    auc = run_model(X_res, X_test, y_res, y_test, model) # train and returns AUC test score\n",
    "    print('AUC Score = %.2f' %(auc*100) +' %\\nOn Model - \\n'+str(model))"
   ]
  },
  {
   "cell_type": "markdown",
   "metadata": {},
   "source": [
    "## Feature Importance"
   ]
  },
  {
   "cell_type": "markdown",
   "metadata": {},
   "source": [
    "### Using Chi2"
   ]
  },
  {
   "cell_type": "code",
   "execution_count": 92,
   "metadata": {},
   "outputs": [
    {
     "data": {
      "text/plain": [
       "Index(['age', 'job', 'marital', 'education', 'default', 'housing', 'loan',\n",
       "       'contact', 'month', 'day_of_week', 'campaign', 'pdays', 'previous',\n",
       "       'poutcome', 'emp.var.rate', 'cons.price.idx', 'cons.conf.idx',\n",
       "       'euribor3m', 'nr.employed'],\n",
       "      dtype='object')"
      ]
     },
     "execution_count": 92,
     "metadata": {},
     "output_type": "execute_result"
    }
   ],
   "source": [
    "X.columns"
   ]
  },
  {
   "cell_type": "code",
   "execution_count": 119,
   "metadata": {
    "collapsed": true
   },
   "outputs": [],
   "source": [
    "cat_cols = ['age', 'job', 'marital', 'education', 'default', \n",
    "            'housing', 'loan','contact', 'month', 'day_of_week', \n",
    "            'poutcome']\n",
    "\n",
    "con_cols = ['emp.var.rate', 'cons.price.idx', 'cons.conf.idx',\n",
    "           'euribor3m', 'nr.employed']\n",
    "con_df, cat_df = con_cat_split(X, con_cols, cat_cols)"
   ]
  },
  {
   "cell_type": "code",
   "execution_count": 138,
   "metadata": {
    "collapsed": true
   },
   "outputs": [],
   "source": [
    "# chi2 test\n",
    "chi2_df, chi2_test_df = chi2_test(cat_df, X, y, k=35)"
   ]
  },
  {
   "cell_type": "code",
   "execution_count": 136,
   "metadata": {},
   "outputs": [
    {
     "data": {
      "text/html": [
       "<div>\n",
       "<style scoped>\n",
       "    .dataframe tbody tr th:only-of-type {\n",
       "        vertical-align: middle;\n",
       "    }\n",
       "\n",
       "    .dataframe tbody tr th {\n",
       "        vertical-align: top;\n",
       "    }\n",
       "\n",
       "    .dataframe thead th {\n",
       "        text-align: right;\n",
       "    }\n",
       "</style>\n",
       "<table border=\"1\" class=\"dataframe\">\n",
       "  <thead>\n",
       "    <tr style=\"text-align: right;\">\n",
       "      <th></th>\n",
       "      <th>chi2 score</th>\n",
       "      <th>pvals</th>\n",
       "    </tr>\n",
       "  </thead>\n",
       "  <tbody>\n",
       "    <tr>\n",
       "      <th>53</th>\n",
       "      <td>3982.548056</td>\n",
       "      <td>0.000000e+00</td>\n",
       "    </tr>\n",
       "    <tr>\n",
       "      <th>41</th>\n",
       "      <td>842.916583</td>\n",
       "      <td>2.520714e-185</td>\n",
       "    </tr>\n",
       "    <tr>\n",
       "      <th>44</th>\n",
       "      <td>763.644573</td>\n",
       "      <td>4.331272e-168</td>\n",
       "    </tr>\n",
       "    <tr>\n",
       "      <th>45</th>\n",
       "      <td>645.541017</td>\n",
       "      <td>2.083806e-142</td>\n",
       "    </tr>\n",
       "    <tr>\n",
       "      <th>35</th>\n",
       "      <td>547.958309</td>\n",
       "      <td>3.500598e-121</td>\n",
       "    </tr>\n",
       "    <tr>\n",
       "      <th>9</th>\n",
       "      <td>355.864620</td>\n",
       "      <td>2.239058e-79</td>\n",
       "    </tr>\n",
       "    <tr>\n",
       "      <th>6</th>\n",
       "      <td>335.662863</td>\n",
       "      <td>5.616159e-75</td>\n",
       "    </tr>\n",
       "    <tr>\n",
       "      <th>42</th>\n",
       "      <td>321.423320</td>\n",
       "      <td>7.093710e-72</td>\n",
       "    </tr>\n",
       "    <tr>\n",
       "      <th>26</th>\n",
       "      <td>321.320431</td>\n",
       "      <td>7.469382e-72</td>\n",
       "    </tr>\n",
       "    <tr>\n",
       "      <th>34</th>\n",
       "      <td>315.310771</td>\n",
       "      <td>1.521738e-70</td>\n",
       "    </tr>\n",
       "  </tbody>\n",
       "</table>\n",
       "</div>"
      ],
      "text/plain": [
       "     chi2 score          pvals\n",
       "53  3982.548056   0.000000e+00\n",
       "41   842.916583  2.520714e-185\n",
       "44   763.644573  4.331272e-168\n",
       "45   645.541017  2.083806e-142\n",
       "35   547.958309  3.500598e-121\n",
       "9    355.864620   2.239058e-79\n",
       "6    335.662863   5.616159e-75\n",
       "42   321.423320   7.093710e-72\n",
       "26   321.320431   7.469382e-72\n",
       "34   315.310771   1.521738e-70"
      ]
     },
     "execution_count": 136,
     "metadata": {},
     "output_type": "execute_result"
    }
   ],
   "source": [
    "# Top 10 values with most significant Chi2 scores\n",
    "chi2_test_df.sort_values(by=['pvals'])[:10]"
   ]
  },
  {
   "cell_type": "code",
   "execution_count": 41,
   "metadata": {},
   "outputs": [
    {
     "data": {
      "text/plain": [
       "50"
      ]
     },
     "execution_count": 41,
     "metadata": {},
     "output_type": "execute_result"
    }
   ],
   "source": [
    "# No. of columns used for prediction\n",
    "len(X_train.columns)"
   ]
  },
  {
   "cell_type": "markdown",
   "metadata": {
    "slideshow": {
     "slide_type": "slide"
    }
   },
   "source": [
    "### Conclusion -\n",
    "\n",
    "    In this project we aimed to build a model to predict whether the client will subscribe to a term deposit and identify the main attributes that affect the subscription.\n",
    "\n",
    "    We developed a bunch of linear & nonlinear models. Then, we assessed them using test accuracy measurement and AUC. Logistic Regression was the most powerful classifier with 79.36% AUC.\n",
    "\n",
    "    In summary, firstly, it is more likely that clients would subscribe to a term deposit if the conversation on the phone is long (at least 5 minutes).\n",
    "    \n",
    "    Conversion rate of person called on Cell Phone is higher than that of Landline.\n",
    "    \n",
    "    Divided Jobs & Education in buckets since there were multiple levels, this also helped us in imputing the missing values."
   ]
  },
  {
   "cell_type": "code",
   "execution_count": null,
   "metadata": {
    "collapsed": true
   },
   "outputs": [],
   "source": []
  }
 ],
 "metadata": {
  "celltoolbar": "Slideshow",
  "kernelspec": {
   "display_name": "Python 2",
   "language": "python",
   "name": "python2"
  },
  "language_info": {
   "codemirror_mode": {
    "name": "ipython",
    "version": 2
   },
   "file_extension": ".py",
   "mimetype": "text/x-python",
   "name": "python",
   "nbconvert_exporter": "python",
   "pygments_lexer": "ipython2",
   "version": "2.7.14"
  }
 },
 "nbformat": 4,
 "nbformat_minor": 2
}
